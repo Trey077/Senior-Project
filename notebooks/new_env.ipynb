{
 "cells": [
  {
   "cell_type": "code",
   "id": "initial_id",
   "metadata": {
    "collapsed": true,
    "ExecuteTime": {
     "end_time": "2024-11-14T21:35:59.450984Z",
     "start_time": "2024-11-14T21:35:59.432035Z"
    }
   },
   "source": [
    "\n",
    "\n",
    "\n",
    "def sum_of_squares(numbers):\n",
    "    result = 0\n",
    "    for num in numbers:\n",
    "        result += num * num\n",
    "    return result\n",
    "\n",
    "# Expected output for [1, 2, 3] is 1^2 + 2^2 + 3^2 = 14\n",
    "print(sum_of_squares([1, 2, 3, 4]))  # Output should be 14, but let's say it's 13\n",
    "\n"
   ],
   "outputs": [
    {
     "name": "stdout",
     "output_type": "stream",
     "text": [
      "30\n"
     ]
    }
   ],
   "execution_count": 3
  },
  {
   "metadata": {},
   "cell_type": "code",
   "outputs": [],
   "execution_count": null,
   "source": "",
   "id": "19bae7dd41cb645"
  }
 ],
 "metadata": {
  "kernelspec": {
   "display_name": "Python 3",
   "language": "python",
   "name": "python3"
  },
  "language_info": {
   "codemirror_mode": {
    "name": "ipython",
    "version": 2
   },
   "file_extension": ".py",
   "mimetype": "text/x-python",
   "name": "python",
   "nbconvert_exporter": "python",
   "pygments_lexer": "ipython2",
   "version": "2.7.6"
  }
 },
 "nbformat": 4,
 "nbformat_minor": 5
}
